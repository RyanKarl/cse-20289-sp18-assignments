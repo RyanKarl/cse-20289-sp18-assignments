{
 "cells": [
  {
   "cell_type": "code",
   "execution_count": 14,
   "metadata": {},
   "outputs": [
    {
     "data": {
      "application/vnd.jupyter.widget-view+json": {
       "model_id": "2aac1e68d0d2430697cba1e88dbb3b04",
       "version_major": 2,
       "version_minor": 0
      },
      "text/plain": [
       "A Jupyter Widget"
      ]
     },
     "metadata": {},
     "output_type": "display_data"
    },
    {
     "data": {
      "text/plain": [
       "<function __main__.multireddit>"
      ]
     },
     "execution_count": 14,
     "metadata": {},
     "output_type": "execute_result"
    }
   ],
   "source": [
    "# Imports\n",
    "import requests\n",
    "import os\n",
    "\n",
    "from IPython.display import HTML\n",
    "from ipywidgets import interact\n",
    "\n",
    "# Functions\n",
    "def multireddit(subreddits, limit=5, orderby='score'):\n",
    "    \n",
    "    if subreddits == \"\":\n",
    "        return;\n",
    "    \n",
    "    ''' Displays an HTML listing of the top `limit` articles from the\n",
    "    various `subreddits` specified by the user.  These articles will be\n",
    "    sorted by the field specified by `orderby`\n",
    "\n",
    "      - `subreddits` is a comma-separated list of subreddits (ie.\n",
    "        `linux,linuxmasterrace`)\n",
    "\n",
    "      - `orderby` is any field in the Reddit JSON data for a particular\n",
    "        article (ie. `score`, `title`, `created_utc`, etc.)\n",
    "    '''\n",
    "\n",
    "    subreddits_list = subreddits.split(\",\")   \n",
    "\n",
    "    # TODO: Process function arguments\n",
    "    url_list = []\n",
    "    article_list = []\n",
    "\n",
    "    for i in subreddits_list:\n",
    "        new_url = 'https://www.reddit.com/r/' + i + '/.json'\n",
    "        url_list.append(new_url)\n",
    "\n",
    "    # TODO: Fetch subreddit data\n",
    "    for i in url_list:\n",
    "        counter = 0 \n",
    "\n",
    "        headers  = {'user-agent': 'reddit-{}'.format(os.environ['USER'])}\n",
    "        response = requests.get(i, headers=headers)\n",
    "\n",
    "        while response.status_code != 200 and counter < 20: \n",
    "            response = requests.get(i, headers=headers)\n",
    "            counter += 1 \n",
    "\n",
    "        data = response.json()\n",
    "\n",
    "        for child in data['data']['children']:\n",
    "            article_obj = {\n",
    "                'title': '',\n",
    "                'score': 0,\n",
    "                'url': '',\n",
    "                'comments': '',\n",
    "                'created_utc': 0\n",
    "            }\n",
    "\n",
    "            article_obj[\"title\"] = child['data']['title']\n",
    "            article_obj['score'] = child['data']['score']\n",
    "            article_obj['url'] = child['data']['url']\n",
    "            article_obj['comments'] = 'https://www.reddit.com' + child['data']['permalink']\n",
    "            article_obj['created_utc'] = child['data']['created_utc']\n",
    "\n",
    "            article_list.append(article_obj)\n",
    "            \n",
    "    # TODO: Sort and limit data, and construct HTML results\n",
    "    if orderby == 'title' or orderby == 'url' or orderby == 'comments':\n",
    "        article_list = sorted(article_list, key=lambda k: k[orderby])       \n",
    "    else:\n",
    "        article_list = sorted(article_list, key=lambda k: k[orderby], reverse=True)       \n",
    "\n",
    "    html = '<table><tbody>'\n",
    "    for i in range(limit):\n",
    "\n",
    "        html += '<tr>'\n",
    "        html += '<td>' + str(i+1) + '. ' + '</td>'\n",
    "        html += '<td>' + '<a href=\"' +  article_list[i][\"url\"] + '\">' + article_list[i][\"title\"] + '</a></td>'\n",
    "        html += '<td>' + '. ' + '</td>'\n",
    "        html += '<td>' + 'Score: ' + str(article_list[i][\"score\"]) + '</td>'\n",
    "        html += '<td>' + '. ' + '</td>'\n",
    "        html += '<td><a href=\"' + article_list[i][\"comments\"] + '\">Comments</a></td>'\n",
    "        html += '<td>' + '. ' + '</td>'\n",
    "\n",
    "    html += '</tbody></table>'\n",
    "\n",
    "    display(HTML(html))\n",
    "    \n",
    "ORDERBY = {\n",
    "    'Score': 'score',\n",
    "    'Creation Time': 'created_utc',\n",
    "    'Title': 'title'\n",
    "}\n",
    "\n",
    "interact(multireddit, subreddits='', limit=(1, 20), orderby=ORDERBY)    "
   ]
  },
  {
   "cell_type": "code",
   "execution_count": null,
   "metadata": {},
   "outputs": [],
   "source": []
  }
 ],
 "metadata": {
  "kernelspec": {
   "display_name": "Python 3",
   "language": "python",
   "name": "python3"
  },
  "language_info": {
   "codemirror_mode": {
    "name": "ipython",
    "version": 3
   },
   "file_extension": ".py",
   "mimetype": "text/x-python",
   "name": "python",
   "nbconvert_exporter": "python",
   "pygments_lexer": "ipython3",
   "version": "3.6.3"
  }
 },
 "nbformat": 4,
 "nbformat_minor": 2
}
