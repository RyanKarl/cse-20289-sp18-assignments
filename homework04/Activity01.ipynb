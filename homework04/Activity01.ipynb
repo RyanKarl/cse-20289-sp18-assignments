{
 "cells": [
  {
   "cell_type": "code",
   "execution_count": 2,
   "metadata": {},
   "outputs": [
    {
     "data": {
      "application/vnd.jupyter.widget-view+json": {
       "model_id": "0396f91e04fe4709803a5f80b34a0b55",
       "version_major": 2,
       "version_minor": 0
      },
      "text/plain": [
       "A Jupyter Widget"
      ]
     },
     "metadata": {},
     "output_type": "display_data"
    },
    {
     "data": {
      "text/plain": [
       "<function __main__.multireddit>"
      ]
     },
     "execution_count": 2,
     "metadata": {},
     "output_type": "execute_result"
    }
   ],
   "source": [
    "# Imports\n",
    "import requests\n",
    "import os\n",
    "\n",
    "from IPython.display import HTML\n",
    "from ipywidgets import interact\n",
    "\n",
    "# Functions\n",
    "def multireddit(subreddits, limit=5, orderby='score'):\n",
    "    \n",
    "    #If test to handle booting up\n",
    "    if subreddits == \"\":\n",
    "        return;\n",
    "    \n",
    "    ''' Displays an HTML listing of the top `limit` articles from the\n",
    "    various `subreddits` specified by the user.  These articles will be\n",
    "    sorted by the field specified by `orderby`\n",
    "\n",
    "      - `subreddits` is a comma-separated list of subreddits (ie.\n",
    "        `linux,linuxmasterrace`)\n",
    "\n",
    "      - `orderby` is any field in the Reddit JSON data for a particular\n",
    "        article (ie. `score`, `title`, `created_utc`, etc.)\n",
    "    '''\n",
    "\n",
    "    #set delimiter\n",
    "    subreddits_list = subreddits.split(\",\")   \n",
    "\n",
    "    # TODO: Process function arguments\n",
    "    url_list = []\n",
    "    article_list = []\n",
    "\n",
    "    #Create URLs \n",
    "    for i in subreddits_list:\n",
    "        new_url = 'https://www.reddit.com/r/' + i + '/.json'\n",
    "        url_list.append(new_url)\n",
    "\n",
    "    # TODO: Fetch subreddit data\n",
    "    for i in url_list:\n",
    "        counter = 0 \n",
    "\n",
    "        headers  = {'user-agent': 'reddit-{}'.format(os.environ['USER'])}\n",
    "        response = requests.get(i, headers=headers)\n",
    "\n",
    "        #Try to connect to reddit to grap json\n",
    "        while response.status_code != 200 and counter < 20: \n",
    "            response = requests.get(i, headers=headers)\n",
    "            counter += 1 \n",
    "\n",
    "        data = response.json()\n",
    "\n",
    "        #Generate dictionary and populate it with json data fields\n",
    "        for child in data['data']['children']:\n",
    "            article_obj = {\n",
    "                'title': '',\n",
    "                'score': 0,\n",
    "                'url': '',\n",
    "                'comments': '',\n",
    "                'created_utc': 0\n",
    "            }\n",
    "\n",
    "            article_obj[\"title\"] = child['data']['title']\n",
    "            article_obj['score'] = child['data']['score']\n",
    "            article_obj['url'] = child['data']['url']\n",
    "            article_obj['comments'] = 'https://www.reddit.com' + child['data']['permalink']\n",
    "            article_obj['created_utc'] = child['data']['created_utc']\n",
    "\n",
    "            article_list.append(article_obj)\n",
    "            \n",
    "    # TODO: Sort and limit data, and construct HTML results\n",
    "    #Determine how to sort data\n",
    "    if orderby == 'title' or orderby == 'url' or orderby == 'comments':\n",
    "        article_list = sorted(article_list, key=lambda k: k[orderby])       \n",
    "    else:\n",
    "        article_list = sorted(article_list, key=lambda k: k[orderby], reverse=True)       \n",
    "   \n",
    "    #Generate HTML code    \n",
    "    html = '<table><tbody>'\n",
    "    for i in range(limit):\n",
    "\n",
    "        html += '<tr>'\n",
    "        html += '<td>' + str(i+1) + '. ' + '</td>'\n",
    "        html += '<td>' + '<a href=\"' +  article_list[i][\"url\"] + '\">' + article_list[i][\"title\"] + '</a></td>'\n",
    "        html += '<td>' + '. ' + '</td>'\n",
    "        html += '<td>' + 'Score: ' + str(article_list[i][\"score\"]) + '</td>'\n",
    "        html += '<td>' + '. ' + '</td>'\n",
    "        html += '<td><a href=\"' + article_list[i][\"comments\"] + '\">Comments</a></td>'\n",
    "        html += '<td>' + '. ' + '</td>'\n",
    "\n",
    "    html += '</tbody></table>'\n",
    "\n",
    "    display(HTML(html))\n",
    "   \n",
    " #Dynamically run code\n",
    "ORDERBY = {\n",
    "    'Score': 'score',\n",
    "    'Creation Time': 'created_utc',\n",
    "    'Title': 'title'\n",
    "}\n",
    "\n",
    "interact(multireddit, subreddits='', limit=(1, 20), orderby=ORDERBY)    "
   ]
  },
  {
   "cell_type": "markdown",
   "metadata": {},
   "source": [
    "Homework 04: Visualizing Data\n",
    "===========================================\n",
    "\n",
    "By: Ryan Karl\n",
    "\n",
    "\n",
    "Activity 1: Multi-Reddit (6 Points)\n",
    "---------------------------------------------\n",
    "\n",
    "\n",
    "1) How you parsed and utilized the arguments to the multireddit function.\n",
    "\n",
    "\tTo parse the subreddits argument, I first used a split function to seperate all of the values\n",
    "\tinto a list.  I then used a for loop to iterate through each item in this list and concatenate the\n",
    "\treddit URL (with a trailing json suffix), and then stored these URLs into another list using the append\n",
    "\tfunction.  To parse the limit and orderby arguments, I simply stored these single values in variables, for later use determining how to organize output.\n",
    "\t \n",
    "\n",
    "2) How you fetched the JSON data and iterated over the articles to extract the relevant data.\n",
    "\t\n",
    "\tTo fetch the json data, I used a for loop to iterate though my list of URL values.  For each value,\n",
    "\tI used a while loop to repeatedly call the requests.get() method to ask for the json until ether the\n",
    "\tstatus_code = 200 or the loop executes 20 times.  I stored the json data in a variable after using the\n",
    "\t.json() method to access it.  To iterate over the articles, I first defined an object to hold the primary\n",
    "\tdata attributes for each .json child entry, and used a for loop to iterate through the .json children\n",
    "\tand append each object to a list after it was populated with the attribute data.  I had to manually \n",
    "\tgo through the .json files to figure out which labels corresponded to the data I needed to extract.\n",
    "\tAfter this, I then sorted the data by calling the sorted function on the list and used an if test to\n",
    "\tparse the orderby variable and determine whter I needed to sort numerically or alphabetically depending \n",
    "\ton what was specified (for numeric sorting I needed to set reverse=True in the sorted function so the \n",
    "\tlist was ordered highest to lowest).\n",
    "\n",
    "\n",
    "3) How you constructed and formatted the HTML output for the relevant articles.\n",
    "\n",
    "\tTo construct the HTML, I defined an html string variable, and used a for loop to loop through the range of\n",
    "\tthe limit specified and concatenate the neccessesary headers and data to the string.  Note I needed to\n",
    "\tinclude the table and tbody headers at the beginning of the string, tr to specify tables and rows, \n",
    "\ttd before any data, and a href= if I wanted to embed a link.  Also note html syntax required me to add\n",
    "\tthe corresponding closing tag at the approprate location after using each of these tags.\n",
    "\n"
   ]
  },
  {
   "cell_type": "code",
   "execution_count": null,
   "metadata": {
    "collapsed": true
   },
   "outputs": [],
   "source": []
  },
  {
   "cell_type": "code",
   "execution_count": null,
   "metadata": {
    "collapsed": true
   },
   "outputs": [],
   "source": []
  }
 ],
 "metadata": {
  "kernelspec": {
   "display_name": "Python 3",
   "language": "python",
   "name": "python3"
  },
  "language_info": {
   "codemirror_mode": {
    "name": "ipython",
    "version": 3
   },
   "file_extension": ".py",
   "mimetype": "text/x-python",
   "name": "python",
   "nbconvert_exporter": "python",
   "pygments_lexer": "ipython3",
   "version": "3.6.3"
  }
 },
 "nbformat": 4,
 "nbformat_minor": 2
}
